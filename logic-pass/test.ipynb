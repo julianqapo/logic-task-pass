{
 "cells": [
  {
   "cell_type": "markdown",
   "id": "dee9c5b4",
   "metadata": {},
   "source": [
    "# Q1 - remove any given charector from a string"
   ]
  },
  {
   "cell_type": "code",
   "execution_count": 1,
   "id": "a9cea7ff",
   "metadata": {},
   "outputs": [
    {
     "data": {
      "text/plain": [
       "'julin'"
      ]
     },
     "execution_count": 1,
     "metadata": {},
     "output_type": "execute_result"
    }
   ],
   "source": [
    "string = \"julian\"\n",
    "def remove_char(string, x):\n",
    "    return \"\".join([i for i in string if i != x])\n",
    "\n",
    "remove_char(string, \"a\")"
   ]
  },
  {
   "cell_type": "markdown",
   "id": "582294ff",
   "metadata": {},
   "source": [
    "# "
   ]
  },
  {
   "cell_type": "markdown",
   "id": "b1d72231",
   "metadata": {},
   "source": [
    "# Q2 - find prime number for a given range"
   ]
  },
  {
   "cell_type": "code",
   "execution_count": 2,
   "id": "44a504d5",
   "metadata": {},
   "outputs": [
    {
     "data": {
      "text/plain": [
       "[5, 7, 11, 13, 17, 19, 23, 25, 29, 31, 35, 37]"
      ]
     },
     "execution_count": 2,
     "metadata": {},
     "output_type": "execute_result"
    }
   ],
   "source": [
    "def prime_number(start, end):\n",
    "    prime_numbers = []\n",
    "    for i in range(start, end):\n",
    "        if i <4:\n",
    "            pass\n",
    "        elif i % 2 ==0 or i %3 == 0:\n",
    "            pass\n",
    "        else:\n",
    "            prime_numbers.append(i)\n",
    "    return prime_numbers\n",
    "\n",
    "start_range, end_range = 0, 40\n",
    "prime_number(start_range, end_range)"
   ]
  },
  {
   "cell_type": "markdown",
   "id": "b713576f",
   "metadata": {},
   "source": [
    "# "
   ]
  },
  {
   "cell_type": "markdown",
   "id": "7d5a9086",
   "metadata": {},
   "source": [
    "# Q3 - count duplicate charector in a string"
   ]
  },
  {
   "cell_type": "code",
   "execution_count": 3,
   "id": "5edd0219",
   "metadata": {},
   "outputs": [
    {
     "name": "stdout",
     "output_type": "stream",
     "text": [
      "(a) was repeated 3 times\n"
     ]
    },
    {
     "data": {
      "text/plain": [
       "3"
      ]
     },
     "execution_count": 3,
     "metadata": {},
     "output_type": "execute_result"
    }
   ],
   "source": [
    "def repeated_char(string, char):\n",
    "    num_repeated = 0\n",
    "    for i in string:\n",
    "        if i == char:\n",
    "            num_repeated += 1\n",
    "    print(f\"({char}) was repeated {num_repeated} times\")\n",
    "    return num_repeated\n",
    "\n",
    "string = \"julian julian julian n\"\n",
    "char = \"a\"\n",
    "repeated_char(string, char)"
   ]
  },
  {
   "cell_type": "markdown",
   "id": "14019aef",
   "metadata": {},
   "source": [
    "# "
   ]
  },
  {
   "cell_type": "markdown",
   "id": "e37b4a1a",
   "metadata": {},
   "source": [
    "# "
   ]
  },
  {
   "cell_type": "code",
   "execution_count": 4,
   "id": "22730381",
   "metadata": {},
   "outputs": [
    {
     "data": {
      "text/plain": [
       "{'a': 3, 'i': 3, 'j': 3, 'l': 3, 'n': 4, 'u': 3}"
      ]
     },
     "execution_count": 4,
     "metadata": {},
     "output_type": "execute_result"
    }
   ],
   "source": [
    "string = \"julian julian julian n\"\n",
    "def count_all_repeated_charectors(x):\n",
    "    dic = set(x.lower())\n",
    "    dic.discard(\" \")\n",
    "    counter = {i: 0 for i in sorted(dic)}\n",
    "    for i in x:\n",
    "        if i in counter:\n",
    "            counter[i] += 1\n",
    "    return counter\n",
    "\n",
    "count_all_repeated_charectors(string)"
   ]
  },
  {
   "cell_type": "code",
   "execution_count": null,
   "id": "78cd06ec",
   "metadata": {},
   "outputs": [],
   "source": []
  }
 ],
 "metadata": {
  "kernelspec": {
   "display_name": "Python 3.8.1 64-bit ('pytorch': conda)",
   "language": "python",
   "name": "python38164bitpytorchconda253807737a7d427e89a99c552ae632e0"
  },
  "language_info": {
   "codemirror_mode": {
    "name": "ipython",
    "version": 3
   },
   "file_extension": ".py",
   "mimetype": "text/x-python",
   "name": "python",
   "nbconvert_exporter": "python",
   "pygments_lexer": "ipython3",
   "version": "3.8.10"
  }
 },
 "nbformat": 4,
 "nbformat_minor": 5
}
